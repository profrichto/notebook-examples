{
 "cells": [
  {
   "cell_type": "markdown",
   "metadata": {},
   "source": [
    "Using SQLAlchemy to Talk to a Database\n",
    "=====================\n",
    "SqlAlchemy helps you use a database to store and retrieve information from python.  It abstracts the specific storage engine from te way you use it - so it doesn't care if you end up using MySQL, SQLite, or whatever else. In addition, you can use core and the object-relational mapper (ORM) to avoid writing any SQL at all.  The [SQLAlchemy homepage](http://www.sqlalchemy.org/) has lots of good examples and full documentation."
   ]
  },
  {
   "cell_type": "code",
   "execution_count": 64,
   "metadata": {
    "collapsed": false
   },
   "outputs": [],
   "source": [
    "#EDIT\n",
    "from sqlalchemy import *\n",
    "import datetime\n",
    "import mediacloud\n",
    "\n",
    "key = 'YOUR_API_KEY_HERE'\n",
    "mc = mediacloud.api.MediaCloud(key)\n",
    "\n"
   ]
  },
  {
   "cell_type": "markdown",
   "metadata": {},
   "source": [
    "## Basic SQL Generation\n",
    "The core library generates SQL for you.  Read more about it on their [expression language tutorial page](http://docs.sqlalchemy.org/en/rel_1_0/core/index.html). Below are some basic examples."
   ]
  },
  {
   "cell_type": "markdown",
   "metadata": {},
   "source": [
    "### Creating a Table\n",
    "Read more about [defining and creating tables](http://docs.sqlalchemy.org/en/rel_1_0/core/tutorial.html#define-and-create-tables)."
   ]
  },
  {
   "cell_type": "code",
   "execution_count": 65,
   "metadata": {
    "collapsed": false
   },
   "outputs": [
    {
     "name": "stdout",
     "output_type": "stream",
     "text": [
      "2016-12-09 14:32:08,116 INFO sqlalchemy.engine.base.Engine SELECT CAST('test plain returns' AS VARCHAR(60)) AS anon_1\n",
      "2016-12-09 14:32:08,117 INFO sqlalchemy.engine.base.Engine ()\n",
      "2016-12-09 14:32:08,118 INFO sqlalchemy.engine.base.Engine SELECT CAST('test unicode returns' AS VARCHAR(60)) AS anon_1\n",
      "2016-12-09 14:32:08,119 INFO sqlalchemy.engine.base.Engine ()\n",
      "2016-12-09 14:32:08,120 INFO sqlalchemy.engine.base.Engine PRAGMA table_info(\"queries\")\n",
      "2016-12-09 14:32:08,120 INFO sqlalchemy.engine.base.Engine ()\n",
      "2016-12-09 14:32:08,121 INFO sqlalchemy.engine.base.Engine \n",
      "CREATE TABLE queries (\n",
      "\tid INTEGER NOT NULL, \n",
      "\tkeywords VARCHAR(400) NOT NULL, \n",
      "\tcount INTEGER, \n",
      "\ttimestamp DATETIME, \n",
      "\tPRIMARY KEY (id)\n",
      ")\n",
      "\n",
      "\n",
      "2016-12-09 14:32:08,122 INFO sqlalchemy.engine.base.Engine ()\n",
      "2016-12-09 14:32:08,123 INFO sqlalchemy.engine.base.Engine COMMIT\n"
     ]
    }
   ],
   "source": [
    "#EDIT\n",
    "# add `echo=True` to see log statements of all the SQL that is generated\n",
    "engine = create_engine('sqlite:///:memory:',echo=True) # just save the db in memory for now (ie. not on disk)\n",
    "metadata = MetaData()\n",
    "# define a table to use\n",
    "queries = Table('queries', metadata,\n",
    "    Column('id', Integer, primary_key=True),\n",
    "    Column('keywords', String(400), nullable=False),\n",
    "    Column('count', Integer),           \n",
    "    Column('timestamp', DateTime, default=datetime.datetime.now),\n",
    ")\n",
    "metadata.create_all(engine) # and create the tables in the database"
   ]
  },
  {
   "cell_type": "markdown",
   "metadata": {},
   "source": [
    "### Inserting Data\n",
    "Read more about generating [SQL insert statements](http://docs.sqlalchemy.org/en/rel_1_0/core/tutorial.html#insert-expressions)."
   ]
  },
  {
   "cell_type": "code",
   "execution_count": 66,
   "metadata": {
    "collapsed": false
   },
   "outputs": [
    {
     "data": {
      "text/plain": [
       "'INSERT INTO queries (id, keywords, count, timestamp) VALUES (:id, :keywords, :count, :timestamp)'"
      ]
     },
     "execution_count": 66,
     "metadata": {},
     "output_type": "execute_result"
    }
   ],
   "source": [
    "insert_stmt = queries.insert()\n",
    "str(insert_stmt) # see an example of what this will do"
   ]
  },
  {
   "cell_type": "code",
   "execution_count": 67,
   "metadata": {
    "collapsed": false
   },
   "outputs": [
    {
     "name": "stdout",
     "output_type": "stream",
     "text": [
      "2016-12-09 14:32:08,803 INFO sqlalchemy.engine.base.Engine INSERT INTO queries (keywords, count, timestamp) VALUES (?, ?, ?)\n",
      "2016-12-09 14:32:08,804 INFO sqlalchemy.engine.base.Engine ('puppies', 539, '2016-12-09 14:32:08.802786')\n",
      "2016-12-09 14:32:08,805 INFO sqlalchemy.engine.base.Engine COMMIT\n",
      "2016-12-09 14:32:09,074 INFO sqlalchemy.engine.base.Engine INSERT INTO queries (keywords, count, timestamp) VALUES (?, ?, ?)\n",
      "2016-12-09 14:32:09,075 INFO sqlalchemy.engine.base.Engine ('kittens', 350, '2016-12-09 14:32:09.074195')\n",
      "2016-12-09 14:32:09,076 INFO sqlalchemy.engine.base.Engine COMMIT\n",
      "2016-12-09 14:32:09,618 INFO sqlalchemy.engine.base.Engine INSERT INTO queries (keywords, count, timestamp) VALUES (?, ?, ?)\n",
      "2016-12-09 14:32:09,619 INFO sqlalchemy.engine.base.Engine ('Trump', 208498, '2016-12-09 14:32:09.618442')\n",
      "2016-12-09 14:32:09,621 INFO sqlalchemy.engine.base.Engine COMMIT\n",
      "2016-12-09 14:32:09,961 INFO sqlalchemy.engine.base.Engine INSERT INTO queries (keywords, count, timestamp) VALUES (?, ?, ?)\n",
      "2016-12-09 14:32:09,962 INFO sqlalchemy.engine.base.Engine ('Clinton', 140533, '2016-12-09 14:32:09.961169')\n",
      "2016-12-09 14:32:09,963 INFO sqlalchemy.engine.base.Engine COMMIT\n"
     ]
    },
    {
     "data": {
      "text/plain": [
       "'INSERT INTO queries (keywords, count, timestamp) VALUES (:keywords, :count, :timestamp)'"
      ]
     },
     "execution_count": 67,
     "metadata": {},
     "output_type": "execute_result"
    }
   ],
   "source": [
    "#EDIT\n",
    "labels = [\"puppies\", \"kittens\", \"Trump\", \"Clinton\"]\n",
    "for label in labels:\n",
    "    res = mc.sentenceCount(label, solr_filter=[mc.publish_date_query( datetime.date( 2016, 9, 1), datetime.date( 2016, 10, 1) ), 'tags_id_media:1' ])\n",
    "    insert_stmt = queries.insert().values(keywords=label, count=res['count'])\n",
    "    db_conn = engine.connect()\n",
    "    result = db_conn.execute(insert_stmt)\n",
    "    result.inserted_primary_key # print out the primary key it was assigned\n",
    "str(insert_stmt)"
   ]
  },
  {
   "cell_type": "code",
   "execution_count": 68,
   "metadata": {
    "collapsed": false
   },
   "outputs": [],
   "source": [
    "#db_conn = engine.connect()\n",
    "#result = db_conn.execute(insert_stmt)\n",
    "#result.inserted_primary_key # print out the primary key it was assigned"
   ]
  },
  {
   "cell_type": "code",
   "execution_count": 69,
   "metadata": {
    "collapsed": false
   },
   "outputs": [],
   "source": [
    "#label2 = \"kittens\"\n",
    "#res2 = mc.sentenceCount(label2, solr_filter=[mc.publish_date_query( datetime.date( 2016, 9, 1), datetime.date( 2016, 10, 1) ), 'tags_id_media:1' ])\n",
    "#insert_stmt = queries.insert().values(keywords=label2, count=res2['count'])\n",
    "#result = db_conn.execute(insert_stmt)\n",
    "#result.inserted_primary_key # print out the primary key it was assigned"
   ]
  },
  {
   "cell_type": "markdown",
   "metadata": {},
   "source": [
    "### Retrieving Data\n",
    "Read more about using [SQL select statments](http://docs.sqlalchemy.org/en/rel_1_0/core/tutorial.html#selecting)."
   ]
  },
  {
   "cell_type": "code",
   "execution_count": 70,
   "metadata": {
    "collapsed": false
   },
   "outputs": [
    {
     "name": "stdout",
     "output_type": "stream",
     "text": [
      "2016-12-09 14:32:16,682 INFO sqlalchemy.engine.base.Engine SELECT queries.id, queries.keywords, queries.count, queries.timestamp \n",
      "FROM queries\n",
      "2016-12-09 14:32:16,683 INFO sqlalchemy.engine.base.Engine ()\n",
      "(1, u'puppies', 539, datetime.datetime(2016, 12, 9, 14, 32, 8, 802786))\n",
      "(2, u'kittens', 350, datetime.datetime(2016, 12, 9, 14, 32, 9, 74195))\n",
      "(3, u'Trump', 208498, datetime.datetime(2016, 12, 9, 14, 32, 9, 618442))\n",
      "(4, u'Clinton', 140533, datetime.datetime(2016, 12, 9, 14, 32, 9, 961169))\n"
     ]
    }
   ],
   "source": [
    "#EDIT\n",
    "from sqlalchemy.sql import select\n",
    "select_stmt = select([queries])\n",
    "results = db_conn.execute(select_stmt)\n",
    "for row in results:\n",
    "    print row"
   ]
  },
  {
   "cell_type": "code",
   "execution_count": 71,
   "metadata": {
    "collapsed": false
   },
   "outputs": [
    {
     "name": "stdout",
     "output_type": "stream",
     "text": [
      "2016-12-09 14:32:22,061 INFO sqlalchemy.engine.base.Engine SELECT queries.id, queries.keywords, queries.count, queries.timestamp \n",
      "FROM queries\n",
      "2016-12-09 14:32:22,062 INFO sqlalchemy.engine.base.Engine ()\n",
      "(1, u'puppies', 539, datetime.datetime(2016, 12, 9, 14, 32, 8, 802786))\n",
      "(2, u'kittens', 350, datetime.datetime(2016, 12, 9, 14, 32, 9, 74195))\n",
      "(3, u'Trump', 208498, datetime.datetime(2016, 12, 9, 14, 32, 9, 618442))\n",
      "(4, u'Clinton', 140533, datetime.datetime(2016, 12, 9, 14, 32, 9, 961169))\n",
      "The sum of the sentence counts of the queries is: 349920\n"
     ]
    }
   ],
   "source": [
    "#EDIT\n",
    "select_stmt = select([queries])\n",
    "count_sum = 0\n",
    "for row in db_conn.execute(select_stmt):\n",
    "    count_sum += row[2]\n",
    "    print row\n",
    "print \"The sum of the sentence counts of the queries is:\", count_sum"
   ]
  },
  {
   "cell_type": "code",
   "execution_count": 9,
   "metadata": {
    "collapsed": false
   },
   "outputs": [
    {
     "name": "stdout",
     "output_type": "stream",
     "text": [
      "2016-12-09 13:03:10,830 INFO sqlalchemy.engine.base.Engine SELECT queries.id, queries.keywords, queries.timestamp \n",
      "FROM queries \n",
      "WHERE queries.keywords LIKE ?\n",
      "2016-12-09 13:03:10,831 INFO sqlalchemy.engine.base.Engine ('p%',)\n",
      "(1, u'puppies', datetime.datetime(2016, 12, 9, 13, 3, 10, 783332))\n"
     ]
    }
   ],
   "source": [
    "select_stmt = select([queries]).where(queries.c.keywords.like('p%'))\n",
    "for row in db_conn.execute(select_stmt):\n",
    "    print row"
   ]
  },
  {
   "cell_type": "markdown",
   "metadata": {},
   "source": [
    "## ORM\n",
    "You can use their ORM library to handle the translation into full-fledged python objects.  This can help you build the Model for you [MVC](https://en.wikipedia.org/wiki/Model–view–controller) solution."
   ]
  },
  {
   "cell_type": "code",
   "execution_count": 10,
   "metadata": {
    "collapsed": false
   },
   "outputs": [],
   "source": [
    "import datetime\n",
    "from sqlalchemy import *\n",
    "from sqlalchemy.ext.declarative import declarative_base\n",
    "from sqlalchemy.orm import sessionmaker\n",
    "Base = declarative_base()"
   ]
  },
  {
   "cell_type": "markdown",
   "metadata": {},
   "source": [
    "### Creating a class mapping\n",
    "Read more about [creating a mapping](http://docs.sqlalchemy.org/en/rel_1_0/orm/tutorial.html#declare-a-mapping)."
   ]
  },
  {
   "cell_type": "code",
   "execution_count": 11,
   "metadata": {
    "collapsed": false
   },
   "outputs": [
    {
     "data": {
      "text/plain": [
       "Table('queries', MetaData(bind=None), Column('id', Integer(), table=<queries>, primary_key=True, nullable=False), Column('keywords', String(length=400), table=<queries>), Column('timestamp', DateTime(), table=<queries>, default=ColumnDefault(<function now at 0x7f805b00b7d0>)), schema=None)"
      ]
     },
     "execution_count": 11,
     "metadata": {},
     "output_type": "execute_result"
    }
   ],
   "source": [
    "class Query(Base):\n",
    "    __tablename__ = 'queries'\n",
    "    id = Column(Integer, primary_key=True)\n",
    "    keywords = Column(String(400))\n",
    "    timestamp = Column(DateTime,default=datetime.datetime.now)\n",
    "    def __repr__(self):\n",
    "        return \"<Query(keywords='%s')>\" % (self.keywords)\n",
    "Query.__table__"
   ]
  },
  {
   "cell_type": "markdown",
   "metadata": {},
   "source": [
    "### Creating a connection and session\n",
    "Read more about [creating this stuff](http://docs.sqlalchemy.org/en/rel_1_0/orm/tutorial.html#creating-a-session)."
   ]
  },
  {
   "cell_type": "code",
   "execution_count": 12,
   "metadata": {
    "collapsed": true
   },
   "outputs": [],
   "source": [
    "engine = create_engine('sqlite:///:memory:') # just save the db in memory for now (ie. not on disk)\n",
    "Base.metadata.create_all(engine)\n",
    "Session = sessionmaker(bind=engine)\n",
    "my_session = Session()"
   ]
  },
  {
   "cell_type": "markdown",
   "metadata": {},
   "source": [
    "### Inserting Data\n",
    "Read more about [inserting data with an ORM](http://docs.sqlalchemy.org/en/rel_1_0/orm/tutorial.html#adding-new-objects)."
   ]
  },
  {
   "cell_type": "code",
   "execution_count": 13,
   "metadata": {
    "collapsed": false
   },
   "outputs": [
    {
     "data": {
      "text/plain": [
       "'iguana'"
      ]
     },
     "execution_count": 13,
     "metadata": {},
     "output_type": "execute_result"
    }
   ],
   "source": [
    "query = Query(keywords=\"iguana\")\n",
    "query.keywords"
   ]
  },
  {
   "cell_type": "code",
   "execution_count": 14,
   "metadata": {
    "collapsed": false
   },
   "outputs": [
    {
     "data": {
      "text/plain": [
       "1"
      ]
     },
     "execution_count": 14,
     "metadata": {},
     "output_type": "execute_result"
    }
   ],
   "source": [
    "my_session.add(query)\n",
    "my_session.commit()\n",
    "query.id"
   ]
  },
  {
   "cell_type": "markdown",
   "metadata": {},
   "source": [
    "### Retrieving Data\n",
    "Read more about [retrieving data from the db](http://docs.sqlalchemy.org/en/rel_1_0/orm/tutorial.html#querying) via an ORM class."
   ]
  },
  {
   "cell_type": "code",
   "execution_count": 15,
   "metadata": {
    "collapsed": false
   },
   "outputs": [
    {
     "name": "stdout",
     "output_type": "stream",
     "text": [
      "<Query(keywords='iguana')>\n"
     ]
    }
   ],
   "source": [
    "for q in my_session.query(Query).order_by(Query.timestamp):\n",
    "    print q"
   ]
  },
  {
   "cell_type": "code",
   "execution_count": 16,
   "metadata": {
    "collapsed": true
   },
   "outputs": [],
   "source": [
    "query1 = Query(keywords=\"robot\")\n",
    "query2 = Query(keywords=\"puppy\")\n",
    "my_session.add_all([query1,query2])\n",
    "my_session.commit()"
   ]
  },
  {
   "cell_type": "code",
   "execution_count": 17,
   "metadata": {
    "collapsed": false
   },
   "outputs": [
    {
     "name": "stdout",
     "output_type": "stream",
     "text": [
      "<Query(keywords='iguana')>\n",
      "<Query(keywords='robot')>\n",
      "<Query(keywords='puppy')>\n"
     ]
    }
   ],
   "source": [
    "for q in my_session.query(Query).order_by(Query.timestamp):\n",
    "    print q"
   ]
  },
  {
   "cell_type": "code",
   "execution_count": 18,
   "metadata": {
    "collapsed": false
   },
   "outputs": [
    {
     "name": "stdout",
     "output_type": "stream",
     "text": [
      "<Query(keywords='robot')>\n"
     ]
    }
   ],
   "source": [
    "for q in my_session.query(Query).filter(Query.keywords.like('r%')):\n",
    "    print q"
   ]
  },
  {
   "cell_type": "code",
   "execution_count": null,
   "metadata": {
    "collapsed": true
   },
   "outputs": [],
   "source": []
  }
 ],
 "metadata": {
  "kernelspec": {
   "display_name": "Python 2",
   "language": "python",
   "name": "python2"
  },
  "language_info": {
   "codemirror_mode": {
    "name": "ipython",
    "version": 2
   },
   "file_extension": ".py",
   "mimetype": "text/x-python",
   "name": "python",
   "nbconvert_exporter": "python",
   "pygments_lexer": "ipython2",
   "version": "2.7.12"
  }
 },
 "nbformat": 4,
 "nbformat_minor": 0
}
